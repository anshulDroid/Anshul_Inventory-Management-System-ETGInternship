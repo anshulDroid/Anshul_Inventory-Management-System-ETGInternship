{
  "nbformat": 4,
  "nbformat_minor": 0,
  "metadata": {
    "colab": {
      "name": "Purchasing products ETG#IMS.ipynb",
      "provenance": [],
      "collapsed_sections": []
    },
    "kernelspec": {
      "name": "python3",
      "display_name": "Python 3"
    },
    "language_info": {
      "name": "python"
    }
  },
  "cells": [
    {
      "cell_type": "code",
      "metadata": {
        "id": "shyCcgqYPlLw"
      },
      "source": [
        "import json\n",
        "\n",
        "fd = open(\"updated_record.json\",'r')\n",
        "r = fd.read()\n",
        "fd.close()\n",
        "\n",
        "records = json.loads(r)"
      ],
      "execution_count": 14,
      "outputs": []
    },
    {
      "cell_type": "code",
      "metadata": {
        "colab": {
          "base_uri": "https://localhost:8080/"
        },
        "id": "roqLgO-TP4-p",
        "outputId": "f58be5b4-af8b-4c61-a6d4-1f5b3eed7ed8"
      },
      "source": [
        "records"
      ],
      "execution_count": 15,
      "outputs": [
        {
          "output_type": "execute_result",
          "data": {
            "text/plain": [
              "{'1001': {'name': 'Choco Cake', 'pr': 100, 'qn': 34},\n",
              " '1002': {'name': 'Milk Cake', 'pr': 800, 'qn': 100},\n",
              " '1003': {'name': 'Drink', 'pr': 85, 'qn': 100},\n",
              " '1004': {'name': 'Candy', 'pr': 5, 'qn': 1000},\n",
              " '1005': {'name': 'Pen', 'pr': 20, 'qn': 100},\n",
              " '1006': {'name': 'Phone', 'pr': 50000, 'qn': 10},\n",
              " '1007': {'name': 'Mic', 'pr': 1500, 'qn': 0},\n",
              " '1008': {'name': 'Case', 'pr': 599, 'qn': 5},\n",
              " '1009': {'name': 'Keyboard', 'pr': 1999, 'qn': 10},\n",
              " '1010': {'name': 'Meat', 'pr': 250, 'qn': 15},\n",
              " '1011': {'name': 'Cereals', 'pr': 1400, 'qn': 100},\n",
              " '1012': {'name': 'Apples', 'pr': 250, 'qn': 100},\n",
              " '1013': {'name': 'Oats', 'pr': 30, 'qn': 17},\n",
              " '1014': {'name': 'Chocolates', 'pr': 100, 'qn': 14},\n",
              " '1015': {'name': 'Chesse', 'pr': 50, 'qn': 100},\n",
              " '1016': {'name': 'Medicines', 'pr': 12, 'qn': 1000},\n",
              " '1017': {'name': 'Soaps', 'pr': 30, 'qn': 100},\n",
              " '1018': {'name': 'Shampoo', 'pr': 120, 'qn': 250},\n",
              " '1019': {'name': 'Sea Food', 'pr': 1200, 'qn': 20},\n",
              " '1020': {'name': 'Pet Food', 'pr': 2000, 'qn': 200},\n",
              " '1021': {'name': 'Buns', 'pr': 30, 'qn': 1000},\n",
              " '1022': {'name': 'Cakes', 'pr': 350, 'qn': 30},\n",
              " '1023': {'name': 'Bulbs ', 'pr': 40, 'qn': 2000},\n",
              " '1024': {'name': 'Chicken ', 'pr': 1200, 'qn': 12},\n",
              " '1025': {'name': 'Fish ', 'pr': 1500, 'qn': 20},\n",
              " '1026': {'name': 'Maggi', 'pr': 102, 'qn': 1200},\n",
              " '1027': {'name': 'Namkeen', 'pr': 200, 'qn': 750},\n",
              " '1028': {'name': 'Beer', 'pr': 999, 'qn': 2000},\n",
              " '1029': {'name': 'Sweets', 'pr': 2399, 'qn': 12},\n",
              " '1030': {'name': 'Ice cream', 'pr': 90, 'qn': 120},\n",
              " '1031': {'name': 'Potatoes', 'pr': 40, 'qn': '5400'},\n",
              " '1032': {'name': 'Cucumber', 'pr': 100, 'qn': 300},\n",
              " '1033': {'name': 'Sweet Potatoes', 'pr': 40, 'qn': '8'},\n",
              " '1034 ': {'name': 'Meals', 'pr': 20, 'qn': 100}}"
            ]
          },
          "metadata": {},
          "execution_count": 15
        }
      ]
    },
    {
      "cell_type": "code",
      "metadata": {
        "colab": {
          "base_uri": "https://localhost:8080/"
        },
        "id": "LIbRQ1wcP9eU",
        "outputId": "32a6e1b6-2caf-4d9d-edca-3c87c7f61eeb"
      },
      "source": [
        "unique_ID = str(input(\"Please enter you unique customer ID: \"))\n",
        "ui_prod  = str(input(\"Enter the product ID you wanna buy: \"))\n",
        "ui_quant = int(input(\"Enter the quantity of the product: \"))\n",
        "\n",
        "print(\"Product purchased: \", records[ui_prod]['name'])\n",
        "print(\"Price: \", records[ui_prod]['pr'])\n",
        "print(\"Billing Amount: \", int(records[ui_prod]['pr']) * int(ui_quant))\n",
        "\n",
        "records[ui_prod]['qn'] = str(int(records[ui_prod]['qn']) - int(ui_quant))"
      ],
      "execution_count": 16,
      "outputs": [
        {
          "output_type": "stream",
          "name": "stdout",
          "text": [
            "Please enter you unique customer ID: C1734\n",
            "Enter the product ID you wanna buy: 1031\n",
            "Enter the quantity of the product: 100\n",
            "Product purchased:  Potatoes\n",
            "Price:  40\n",
            "Billing Amount:  4000\n"
          ]
        }
      ]
    },
    {
      "cell_type": "code",
      "metadata": {
        "id": "TSjyQgCPQZqa"
      },
      "source": [
        "js = json.dumps(records)\n",
        "\n",
        "fd = open(\"updated_record.json\",'w')\n",
        "fd.write(js)\n",
        "fd.close()"
      ],
      "execution_count": 17,
      "outputs": []
    },
    {
      "cell_type": "code",
      "metadata": {
        "id": "bpAnCXV3Qgyc",
        "colab": {
          "base_uri": "https://localhost:8080/",
          "height": 137
        },
        "outputId": "1ef6cf22-6025-4ad7-deae-3a305247cd06"
      },
      "source": [
        "js"
      ],
      "execution_count": 18,
      "outputs": [
        {
          "output_type": "execute_result",
          "data": {
            "application/vnd.google.colaboratory.intrinsic+json": {
              "type": "string"
            },
            "text/plain": [
              "'{\"1001\": {\"name\": \"Choco Cake\", \"qn\": 34, \"pr\": 100}, \"1002\": {\"name\": \"Milk Cake\", \"pr\": 800, \"qn\": 100}, \"1003\": {\"name\": \"Drink\", \"pr\": 85, \"qn\": 100}, \"1004\": {\"name\": \"Candy\", \"pr\": 5, \"qn\": 1000}, \"1005\": {\"name\": \"Pen\", \"pr\": 20, \"qn\": 100}, \"1006\": {\"name\": \"Phone\", \"pr\": 50000, \"qn\": 10}, \"1007\": {\"name\": \"Mic\", \"pr\": 1500, \"qn\": 0}, \"1008\": {\"name\": \"Case\", \"pr\": 599, \"qn\": 5}, \"1009\": {\"name\": \"Keyboard\", \"pr\": 1999, \"qn\": 10}, \"1010\": {\"name\": \"Meat\", \"pr\": 250, \"qn\": 15}, \"1011\": {\"name\": \"Cereals\", \"pr\": 1400, \"qn\": 100}, \"1012\": {\"name\": \"Apples\", \"pr\": 250, \"qn\": 100}, \"1013\": {\"name\": \"Oats\", \"pr\": 30, \"qn\": 17}, \"1014\": {\"name\": \"Chocolates\", \"pr\": 100, \"qn\": 14}, \"1015\": {\"name\": \"Chesse\", \"pr\": 50, \"qn\": 100}, \"1016\": {\"name\": \"Medicines\", \"pr\": 12, \"qn\": 1000}, \"1017\": {\"name\": \"Soaps\", \"pr\": 30, \"qn\": 100}, \"1018\": {\"name\": \"Shampoo\", \"pr\": 120, \"qn\": 250}, \"1019\": {\"name\": \"Sea Food\", \"pr\": 1200, \"qn\": 20}, \"1020\": {\"name\": \"Pet Food\", \"pr\": 2000, \"qn\": 200}, \"1021\": {\"name\": \"Buns\", \"pr\": 30, \"qn\": 1000}, \"1022\": {\"name\": \"Cakes\", \"pr\": 350, \"qn\": 30}, \"1023\": {\"name\": \"Bulbs \", \"pr\": 40, \"qn\": 2000}, \"1024\": {\"name\": \"Chicken \", \"pr\": 1200, \"qn\": 12}, \"1025\": {\"name\": \"Fish \", \"pr\": 1500, \"qn\": 20}, \"1026\": {\"name\": \"Maggi\", \"pr\": 102, \"qn\": 1200}, \"1027\": {\"name\": \"Namkeen\", \"pr\": 200, \"qn\": 750}, \"1028\": {\"name\": \"Beer\", \"pr\": 999, \"qn\": 2000}, \"1029\": {\"name\": \"Sweets\", \"pr\": 2399, \"qn\": 12}, \"1030\": {\"name\": \"Ice cream\", \"pr\": 90, \"qn\": 120}, \"1031\": {\"name\": \"Potatoes\", \"pr\": 40, \"qn\": \"5300\"}, \"1032\": {\"name\": \"Cucumber\", \"pr\": 100, \"qn\": 300}, \"1033\": {\"name\": \"Sweet Potatoes\", \"pr\": 40, \"qn\": \"8\"}, \"1034 \": {\"name\": \"Meals\", \"pr\": 20, \"qn\": 100}}'"
            ]
          },
          "metadata": {},
          "execution_count": 18
        }
      ]
    },
    {
      "cell_type": "code",
      "metadata": {
        "id": "u1f23ZuH4rfi"
      },
      "source": [
        ""
      ],
      "execution_count": 18,
      "outputs": []
    },
    {
      "cell_type": "code",
      "metadata": {
        "id": "DZQahuCn4Sda"
      },
      "source": [
        "import json\n",
        "\n",
        "sale_fd = open(\"Sales_IMS.json\",'r')\n",
        "r_sale = sale_fd.read()\n",
        "sale_fd.close()\n",
        "\n",
        "rec_sale = json.loads(r_sale)"
      ],
      "execution_count": 19,
      "outputs": []
    },
    {
      "cell_type": "code",
      "metadata": {
        "id": "JiNbOYLR48U8"
      },
      "source": [
        "rec_sale[unique_ID] = {'prod' : ui_prod, 'qn' : ui_quant, 'amount': records[ui_prod]['pr'] * ui_quant}"
      ],
      "execution_count": 20,
      "outputs": []
    },
    {
      "cell_type": "code",
      "metadata": {
        "colab": {
          "base_uri": "https://localhost:8080/"
        },
        "id": "WXwa9UPI4_Am",
        "outputId": "9ecee6c0-56b2-4c54-af07-5d997026d12a"
      },
      "source": [
        "rec_sale"
      ],
      "execution_count": 21,
      "outputs": [
        {
          "output_type": "execute_result",
          "data": {
            "text/plain": [
              "{'1': {'amount': 4000, 'prod': '1002', 'qn': 5},\n",
              " 'C0242': {'amount': 2400, 'prod': '1031', 'qn': 60},\n",
              " 'C1088': {'amount': 50, 'prod': '1004', 'qn': 10},\n",
              " 'C1278': {'amount': 49950, 'prod': '1028', 'qn': 50},\n",
              " 'C1289': {'amount': 115, 'prod': '1004', 'qn': 23},\n",
              " 'C1453': {'amount': 24000, 'prod': '1020', 'qn': 12},\n",
              " 'C1472': {'amount': 400, 'prod': '1014', 'qn': 4},\n",
              " 'C1590': {'amount': 3998, 'prod': '1009', 'qn': 2},\n",
              " 'C1634': {'amount': 144, 'prod': '1016', 'qn': 12},\n",
              " 'C1666': {'amount': 80, 'prod': '1005', 'qn': 4},\n",
              " 'C1722': {'amount': 1600, 'prod': '1031', 'qn': 40},\n",
              " 'C1734': {'amount': 4000, 'prod': '1031', 'qn': 100},\n",
              " 'C1845': {'amount': 160, 'prod': '1033', 'qn': 4},\n",
              " 'C1988': {'amount': 100000, 'prod': '1006', 'qn': 2},\n",
              " 'C1991': {'amount': 4000, 'prod': '1023', 'qn': 100},\n",
              " 'C5241': {'amount': 500, 'prod': '1015', 'qn': 10},\n",
              " 'C6723': {'amount': 120, 'prod': '1017', 'qn': 4},\n",
              " 'C7252': {'amount': 80, 'prod': '1033', 'qn': 2}}"
            ]
          },
          "metadata": {},
          "execution_count": 21
        }
      ]
    },
    {
      "cell_type": "code",
      "metadata": {
        "id": "QZYUXVMw7tHL"
      },
      "source": [
        "var = json.dumps(rec_sale)\n",
        "\n",
        "var_fd = open(\"Sales_IMS.json\",'w')\n",
        "var_fd.write(var)\n",
        "var_fd.close() "
      ],
      "execution_count": 22,
      "outputs": []
    },
    {
      "cell_type": "code",
      "metadata": {
        "id": "YzhrF-4wDZbi",
        "colab": {
          "base_uri": "https://localhost:8080/",
          "height": 136
        },
        "outputId": "b55b3184-6d6a-47b9-a07a-1bdce13ddf7c"
      },
      "source": [
        "var"
      ],
      "execution_count": 23,
      "outputs": [
        {
          "output_type": "execute_result",
          "data": {
            "application/vnd.google.colaboratory.intrinsic+json": {
              "type": "string"
            },
            "text/plain": [
              "'{\"1\": {\"prod\": \"1002\", \"qn\": 5, \"amount\": 4000}, \"C1088\": {\"prod\": \"1004\", \"qn\": 10, \"amount\": 50}, \"C1722\": {\"prod\": \"1031\", \"qn\": 40, \"amount\": 1600}, \"C1988\": {\"prod\": \"1006\", \"qn\": 2, \"amount\": 100000}, \"C1453\": {\"prod\": \"1020\", \"qn\": 12, \"amount\": 24000}, \"C1634\": {\"prod\": \"1016\", \"qn\": 12, \"amount\": 144}, \"C1666\": {\"prod\": \"1005\", \"qn\": 4, \"amount\": 80}, \"C1278\": {\"prod\": \"1028\", \"qn\": 50, \"amount\": 49950}, \"C1845\": {\"prod\": \"1033\", \"qn\": 4, \"amount\": 160}, \"C1590\": {\"prod\": \"1009\", \"qn\": 2, \"amount\": 3998}, \"C1289\": {\"prod\": \"1004\", \"qn\": 23, \"amount\": 115}, \"C1472\": {\"prod\": \"1014\", \"qn\": 4, \"amount\": 400}, \"C1991\": {\"prod\": \"1023\", \"qn\": 100, \"amount\": 4000}, \"C6723\": {\"prod\": \"1017\", \"qn\": 4, \"amount\": 120}, \"C0242\": {\"prod\": \"1031\", \"qn\": 60, \"amount\": 2400}, \"C5241\": {\"prod\": \"1015\", \"qn\": 10, \"amount\": 500}, \"C7252\": {\"prod\": \"1033\", \"qn\": 2, \"amount\": 80}, \"C1734\": {\"prod\": \"1031\", \"qn\": 100, \"amount\": 4000}}'"
            ]
          },
          "metadata": {},
          "execution_count": 23
        }
      ]
    },
    {
      "cell_type": "code",
      "metadata": {
        "id": "ksSJYrho3SNx"
      },
      "source": [
        ""
      ],
      "execution_count": null,
      "outputs": []
    }
  ]
}